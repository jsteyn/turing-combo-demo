{
 "cells": [
  {
   "cell_type": "code",
   "execution_count": 1,
   "id": "bb9853e9",
   "metadata": {},
   "outputs": [],
   "source": [
    "from mlflow.tracking import MlflowClient\n",
    "from pprint import pprint\n",
    "import os"
   ]
  },
  {
   "cell_type": "markdown",
   "id": "ea92b806",
   "metadata": {},
   "source": [
    "### Retrieve a list of models"
   ]
  },
  {
   "cell_type": "code",
   "execution_count": 2,
   "id": "ae85a411",
   "metadata": {},
   "outputs": [
    {
     "name": "stdout",
     "output_type": "stream",
     "text": [
      "'ElasticnetWineModel'\n",
      "'/models/mlruns/0/a02efd60662a44b29ca485f407e7739e/artifacts/model'\n",
      "'demo2_survival5_lgbm'\n",
      "'/models/mlruns/0/1ccd4da3859245788280c6dc850b5faf/artifacts/demo2_survival5_lgbm'\n",
      "{'ElasticnetWineModel': '/models/mlruns/0/a02efd60662a44b29ca485f407e7739e/artifacts/model',\n",
      " 'demo2_survival5_lgbm': '/models/mlruns/0/1ccd4da3859245788280c6dc850b5faf/artifacts/demo2_survival5_lgbm'}\n"
     ]
    }
   ],
   "source": [
    "client = MlflowClient()\n",
    "models = {}\n",
    "for rm in client.list_registered_models():\n",
    "    mv = client.get_model_version(rm.name, 1)\n",
    "    models[mv.name] = mv.source\n",
    "    pprint(mv.name)\n",
    "    pprint(mv.source)\n",
    "pprint(models)"
   ]
  },
  {
   "cell_type": "code",
   "execution_count": 3,
   "id": "2281a91e",
   "metadata": {},
   "outputs": [
    {
     "name": "stdout",
     "output_type": "stream",
     "text": [
      "<RegisteredModel: creation_timestamp=1626260292811, description='', last_updated_timestamp=1626341836065, latest_versions=[<ModelVersion: creation_timestamp=1626341836065, current_stage='None', description='', last_updated_timestamp=1626341836065, name='ElasticnetWineModel', run_id='0456f2b4de8a4bbfaf9fe56cd066e52d', run_link='', source='/models/mlruns/0/0456f2b4de8a4bbfaf9fe56cd066e52d/artifacts/model', status='READY', status_message='', tags={}, user_id='', version='4'>], name='ElasticnetWineModel', tags={}>\n",
      "<RegisteredModel: creation_timestamp=1626253035650, description='', last_updated_timestamp=1627999882150, latest_versions=[<ModelVersion: creation_timestamp=1627999882150, current_stage='None', description='', last_updated_timestamp=1627999882150, name='demo2_survival5_lgbm', run_id='dcb066497ec34279976da1e5b5ee0dd8', run_link='', source='/models/mlruns/0/dcb066497ec34279976da1e5b5ee0dd8/artifacts/demo2_survival5_lgbm', status='READY', status_message='', tags={}, user_id='', version='2'>], name='demo2_survival5_lgbm', tags={}>\n"
     ]
    }
   ],
   "source": [
    "client = MlflowClient()\n",
    "for rm in client.list_registered_models():\n",
    "    pprint(rm)"
   ]
  },
  {
   "cell_type": "code",
   "execution_count": 4,
   "id": "3189af49",
   "metadata": {},
   "outputs": [
    {
     "name": "stdout",
     "output_type": "stream",
     "text": [
      "<class 'mlflow.entities.model_registry.registered_model.RegisteredModel'>\n"
     ]
    }
   ],
   "source": [
    "print(type(rm))"
   ]
  },
  {
   "cell_type": "code",
   "execution_count": null,
   "id": "a775b2d0",
   "metadata": {},
   "outputs": [
    {
     "name": "stdout",
     "output_type": "stream",
     "text": [
      "mlflow models serve -m /models/mlruns/0/dcb066497ec34279976da1e5b5ee0dd8/artifacts/demo2_survival5_lgbm -p 1230 -h 0.0.0.0\n"
     ]
    },
    {
     "name": "stderr",
     "output_type": "stream",
     "text": [
      "2021/08/04 14:17:02 INFO mlflow.models.cli: Selected backend for flavor 'python_function'\n",
      "2021/08/04 14:17:02 INFO mlflow.pyfunc.backend: === Running command 'source activate mlflow-05af807ac92669b81a2885c3f433311c4fbe9de2 1>&2 && gunicorn --timeout=60 -b 0.0.0.0:1230 -w 1 ${GUNICORN_CMD_ARGS} -- mlflow.pyfunc.scoring_server.wsgi:app'\n",
      "[2021-08-04 14:17:02 +0100] [937] [INFO] Starting gunicorn 20.1.0\n",
      "[2021-08-04 14:17:02 +0100] [937] [INFO] Listening at: http://0.0.0.0:1230 (937)\n",
      "[2021-08-04 14:17:02 +0100] [937] [INFO] Using worker: sync\n",
      "[2021-08-04 14:17:02 +0100] [946] [INFO] Booting worker with pid: 946\n"
     ]
    }
   ],
   "source": [
    "command = \"mlflow models serve -m \" + \"/models/mlruns/0/dcb066497ec34279976da1e5b5ee0dd8/artifacts/demo2_survival5_lgbm\" + \" -p 1230 -h 0.0.0.0\"\n",
    "print(command)\n",
    "os.system(command)"
   ]
  },
  {
   "cell_type": "code",
   "execution_count": null,
   "id": "e7b7a701",
   "metadata": {},
   "outputs": [],
   "source": []
  }
 ],
 "metadata": {
  "kernelspec": {
   "display_name": "Python 3 (ipykernel)",
   "language": "python",
   "name": "python3"
  },
  "language_info": {
   "codemirror_mode": {
    "name": "ipython",
    "version": 3
   },
   "file_extension": ".py",
   "mimetype": "text/x-python",
   "name": "python",
   "nbconvert_exporter": "python",
   "pygments_lexer": "ipython3",
   "version": "3.8.10"
  }
 },
 "nbformat": 4,
 "nbformat_minor": 5
}
