{
 "cells": [
  {
   "cell_type": "code",
   "execution_count": 8,
   "id": "fc5ebb98",
   "metadata": {},
   "outputs": [
    {
     "name": "stdout",
     "output_type": "stream",
     "text": [
      "2021/08/03 15:11:06 INFO mlflow.projects.utils: === Created directory /tmp/tmp2j42vel6 for downloading remote URIs passed to arguments of type 'path' ===\n",
      "2021/08/03 15:11:06 INFO mlflow.projects.backend.local: === Running command 'source activate mlflow-ffa6244c26169b0eedfbc1abba514238b765ecfc 1>&2 && python train.py --start_year 1988 --end_year 1991' in run with ID 'dcb066497ec34279976da1e5b5ee0dd8' === \n",
      "Fitting model...\n",
      "balanced_accuracy \n",
      " 0.6793364605568684\n",
      "accuracy \n",
      " 0.8645551156490936\n",
      "precision \n",
      " 0.8777061262091203\n",
      "recall \n",
      " 0.9697201017811705\n",
      "roc_auc \n",
      " 0.8414345405938798\n",
      "log_loss \n",
      " 0.3410078437393082\n",
      "Unable to detect .whylogs.yaml file under current directory. whylogs will write to local disk in the container\n",
      "Registered model 'demo2_survival5_lgbm' already exists. Creating a new version of this model...\n",
      "2021/08/03 15:11:22 INFO mlflow.tracking._model_registry.client: Waiting up to 300 seconds for model version to finish creation.                     Model name: demo2_survival5_lgbm, version 2\n",
      "Created version '2' of model 'demo2_survival5_lgbm'.\n",
      "2021/08/03 15:11:22 INFO mlflow.projects: === Run (ID 'dcb066497ec34279976da1e5b5ee0dd8') succeeded ===\n"
     ]
    }
   ],
   "source": [
    "!mlflow run demo2_mlflow -e train -P start_year='1988' -P end_year='1991'"
   ]
  },
  {
   "cell_type": "code",
   "execution_count": null,
   "id": "980c23b3",
   "metadata": {},
   "outputs": [],
   "source": []
  }
 ],
 "metadata": {
  "kernelspec": {
   "display_name": "Python 3 (ipykernel)",
   "language": "python",
   "name": "python3"
  },
  "language_info": {
   "codemirror_mode": {
    "name": "ipython",
    "version": 3
   },
   "file_extension": ".py",
   "mimetype": "text/x-python",
   "name": "python",
   "nbconvert_exporter": "python",
   "pygments_lexer": "ipython3",
   "version": "3.8.10"
  }
 },
 "nbformat": 4,
 "nbformat_minor": 5
}
