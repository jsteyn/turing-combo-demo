{
 "cells": [
  {
   "cell_type": "code",
   "execution_count": 1,
   "id": "8939dd86",
   "metadata": {},
   "outputs": [],
   "source": [
    "import sqlite3"
   ]
  },
  {
   "cell_type": "code",
   "execution_count": 2,
   "id": "95a2618a",
   "metadata": {
    "scrolled": true
   },
   "outputs": [],
   "source": [
    "con = sqlite3.connect('mlruns.db')\n",
    "cur = con.cursor()"
   ]
  },
  {
   "cell_type": "markdown",
   "id": "b8a1e726",
   "metadata": {},
   "source": [
    "### Retrieve models with versions and parameters for each run"
   ]
  },
  {
   "cell_type": "code",
   "execution_count": 9,
   "id": "0bf87c6c",
   "metadata": {},
   "outputs": [
    {
     "name": "stdout",
     "output_type": "stream",
     "text": [
      "('ElasticnetWineModel', 4, '0456f2b4de8a4bbfaf9fe56cd066e52d', 'alpha', '1.0', '/models/mlruns/0/0456f2b4de8a4bbfaf9fe56cd066e52d/artifacts/model')\n",
      "('ElasticnetWineModel', 4, '0456f2b4de8a4bbfaf9fe56cd066e52d', 'l1_ratio', '0.2', '/models/mlruns/0/0456f2b4de8a4bbfaf9fe56cd066e52d/artifacts/model')\n",
      "('demo2_survival5_lgbm', 1, '1ccd4da3859245788280c6dc850b5faf', 'start_date', '1988-1-1', '/models/mlruns/0/1ccd4da3859245788280c6dc850b5faf/artifacts/demo2_survival5_lgbm')\n",
      "('demo2_survival5_lgbm', 1, '1ccd4da3859245788280c6dc850b5faf', 'end_date', '1991-12-31', '/models/mlruns/0/1ccd4da3859245788280c6dc850b5faf/artifacts/demo2_survival5_lgbm')\n",
      "('ElasticnetWineModel', 1, 'a02efd60662a44b29ca485f407e7739e', 'alpha', '0.5', '/models/mlruns/0/a02efd60662a44b29ca485f407e7739e/artifacts/model')\n",
      "('ElasticnetWineModel', 1, 'a02efd60662a44b29ca485f407e7739e', 'l1_ratio', '0.5', '/models/mlruns/0/a02efd60662a44b29ca485f407e7739e/artifacts/model')\n",
      "('ElasticnetWineModel', 2, 'bf2462293f184f838aba8ec5cb0b6f16', 'alpha', '0.42', '/models/mlruns/0/bf2462293f184f838aba8ec5cb0b6f16/artifacts/model')\n",
      "('ElasticnetWineModel', 2, 'bf2462293f184f838aba8ec5cb0b6f16', 'l1_ratio', '0.1', '/models/mlruns/0/bf2462293f184f838aba8ec5cb0b6f16/artifacts/model')\n",
      "('ElasticnetWineModel', 3, 'f64e5f1fa02a489dab62e42e0d030273', 'alpha', '0.5', '/models/mlruns/0/f64e5f1fa02a489dab62e42e0d030273/artifacts/model')\n",
      "('ElasticnetWineModel', 3, 'f64e5f1fa02a489dab62e42e0d030273', 'l1_ratio', '0.5', '/models/mlruns/0/f64e5f1fa02a489dab62e42e0d030273/artifacts/model')\n"
     ]
    }
   ],
   "source": [
    "for row in cur.execute('SELECT * FROM (SELECT m.name, m.version, m.run_id, p.key, p.value, m.source FROM params AS p ' +\n",
    "                       'INNER JOIN model_versions AS m ON m.run_id=p.run_uuid) ' +\n",
    "                       'ORDER BY run_id'):\n",
    "    print(row)\n"
   ]
  },
  {
   "cell_type": "markdown",
   "id": "8244cad4",
   "metadata": {},
   "source": [
    "### mlflow ER-diagram with selected columns marked"
   ]
  },
  {
   "cell_type": "markdown",
   "id": "56bc06c8",
   "metadata": {},
   "source": [
    "![](mlflow.png)"
   ]
  },
  {
   "cell_type": "code",
   "execution_count": 10,
   "id": "9cac6b14",
   "metadata": {},
   "outputs": [
    {
     "name": "stdout",
     "output_type": "stream",
     "text": [
      "mlflow models serve -m /models/mlruns/0/0456f2b4de8a4bbfaf9fe56cd066e52d/artifacts/model -p 1234 -h 0.0.0.0\n"
     ]
    }
   ],
   "source": [
    "command = \"mlflow models serve -m /models/mlruns/0/0456f2b4de8a4bbfaf9fe56cd066e52d/artifacts/model -p 1234 -h 0.0.0.0\"\n",
    "print(command)"
   ]
  },
  {
   "cell_type": "code",
   "execution_count": 11,
   "id": "1cad61d8",
   "metadata": {},
   "outputs": [
    {
     "name": "stderr",
     "output_type": "stream",
     "text": [
      "2021/07/26 11:28:19 INFO mlflow.models.cli: Selected backend for flavor 'python_function'\n",
      "2021/07/26 11:28:24 INFO mlflow.pyfunc.backend: === Running command 'source activate mlflow-7c2e8865f772abd50bc95840b7f2c51722d38761 1>&2 && gunicorn --timeout=60 -b 0.0.0.0:1234 -w 1 ${GUNICORN_CMD_ARGS} -- mlflow.pyfunc.scoring_server.wsgi:app'\n",
      "[2021-07-26 11:28:24 +0100] [294] [INFO] Starting gunicorn 20.1.0\n",
      "[2021-07-26 11:28:24 +0100] [294] [INFO] Listening at: http://0.0.0.0:1234 (294)\n",
      "[2021-07-26 11:28:24 +0100] [294] [INFO] Using worker: sync\n",
      "[2021-07-26 11:28:24 +0100] [307] [INFO] Booting worker with pid: 307\n",
      "[2021-07-26 11:30:34 +0100] [294] [INFO] Handling signal: int\n",
      "[2021-07-26 11:30:34 +0100] [307] [INFO] Worker exiting (pid: 307)\n",
      "\n",
      "Aborted!\n",
      "[2021-07-26 11:30:35 +0100] [294] [INFO] Shutting down: Master\n"
     ]
    },
    {
     "data": {
      "text/plain": [
       "2"
      ]
     },
     "execution_count": 11,
     "metadata": {},
     "output_type": "execute_result"
    }
   ],
   "source": [
    "import os\n",
    "os.system(command)"
   ]
  },
  {
   "cell_type": "code",
   "execution_count": 13,
   "id": "cf6d8e1e",
   "metadata": {},
   "outputs": [
    {
     "name": "stdout",
     "output_type": "stream",
     "text": [
      "mlflow models serve -m models:/ElasticnetWineModel/4 -p 1234 -h 0.0.0.0\n"
     ]
    }
   ],
   "source": [
    "command = \"mlflow models serve -m models:/ElasticnetWineModel/4 -p 1234 -h 0.0.0.0\"\n",
    "print(command)"
   ]
  },
  {
   "cell_type": "code",
   "execution_count": 14,
   "id": "f14b4088",
   "metadata": {},
   "outputs": [
    {
     "name": "stderr",
     "output_type": "stream",
     "text": [
      "2021/07/26 11:30:52 INFO mlflow.models.cli: Selected backend for flavor 'python_function'\n",
      "2021/07/26 11:30:56 INFO mlflow.pyfunc.backend: === Running command 'source activate mlflow-7c2e8865f772abd50bc95840b7f2c51722d38761 1>&2 && gunicorn --timeout=60 -b 0.0.0.0:1234 -w 1 ${GUNICORN_CMD_ARGS} -- mlflow.pyfunc.scoring_server.wsgi:app'\n",
      "[2021-07-26 11:30:57 +0100] [336] [INFO] Starting gunicorn 20.1.0\n",
      "[2021-07-26 11:30:57 +0100] [336] [INFO] Listening at: http://0.0.0.0:1234 (336)\n",
      "[2021-07-26 11:30:57 +0100] [336] [INFO] Using worker: sync\n",
      "[2021-07-26 11:30:57 +0100] [349] [INFO] Booting worker with pid: 349\n",
      "[2021-07-26 12:23:58 +0100] [336] [INFO] Handling signal: int\n",
      "[2021-07-26 12:23:59 +0100] [349] [INFO] Worker exiting (pid: 349)\n",
      "\n",
      "Aborted!\n",
      "[2021-07-26 12:23:59 +0100] [336] [INFO] Shutting down: Master\n"
     ]
    },
    {
     "data": {
      "text/plain": [
       "2"
      ]
     },
     "execution_count": 14,
     "metadata": {},
     "output_type": "execute_result"
    }
   ],
   "source": [
    "os.system(command)"
   ]
  },
  {
   "cell_type": "code",
   "execution_count": null,
   "id": "cf6c24d8",
   "metadata": {},
   "outputs": [],
   "source": []
  }
 ],
 "metadata": {
  "kernelspec": {
   "display_name": "Python 3 (ipykernel)",
   "language": "python",
   "name": "python3"
  },
  "language_info": {
   "codemirror_mode": {
    "name": "ipython",
    "version": 3
   },
   "file_extension": ".py",
   "mimetype": "text/x-python",
   "name": "python",
   "nbconvert_exporter": "python",
   "pygments_lexer": "ipython3",
   "version": "3.8.10"
  }
 },
 "nbformat": 4,
 "nbformat_minor": 5
}
