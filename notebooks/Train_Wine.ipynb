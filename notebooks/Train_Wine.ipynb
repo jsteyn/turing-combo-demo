{
 "cells": [
  {
   "cell_type": "markdown",
   "id": "198f71e5",
   "metadata": {},
   "source": [
    "### Run with default parameters\n"
   ]
  },
  {
   "cell_type": "code",
   "execution_count": 1,
   "id": "3af52534",
   "metadata": {},
   "outputs": [
    {
     "name": "stdout",
     "output_type": "stream",
     "text": [
      "Elasticnet model (alpha=0.500000, l1_ratio=0.500000):\n",
      "  RMSE: 0.7931640229276851\n",
      "  MAE: 0.6271946374319586\n",
      "  R2: 0.10862644997792614\n",
      "Registered model 'ElasticnetWineModel' already exists. Creating a new version of this model...\n",
      "2021/07/15 10:34:04 INFO mlflow.tracking._model_registry.client: Waiting up to 300 seconds for model version to finish creation.                     Model name: ElasticnetWineModel, version 3\n",
      "Created version '3' of model 'ElasticnetWineModel'.\n"
     ]
    }
   ],
   "source": [
    "!python sklearn_elasticnet_wine/train.py"
   ]
  },
  {
   "cell_type": "markdown",
   "id": "b645753c",
   "metadata": {},
   "source": [
    "### Run with alternative parameters"
   ]
  },
  {
   "cell_type": "code",
   "execution_count": 2,
   "id": "4fd687a4",
   "metadata": {},
   "outputs": [
    {
     "name": "stdout",
     "output_type": "stream",
     "text": [
      "Elasticnet model (alpha=1.000000, l1_ratio=0.200000):\n",
      "  RMSE: 0.7919616045104532\n",
      "  MAE: 0.6249229703708638\n",
      "  R2: 0.11132700503875692\n",
      "Registered model 'ElasticnetWineModel' already exists. Creating a new version of this model...\n",
      "2021/07/15 10:37:16 INFO mlflow.tracking._model_registry.client: Waiting up to 300 seconds for model version to finish creation.                     Model name: ElasticnetWineModel, version 4\n",
      "Created version '4' of model 'ElasticnetWineModel'.\n"
     ]
    }
   ],
   "source": [
    "!python sklearn_elasticnet_wine/train.py 1 0.2"
   ]
  },
  {
   "cell_type": "code",
   "execution_count": null,
   "id": "fc1d9e60",
   "metadata": {},
   "outputs": [],
   "source": []
  }
 ],
 "metadata": {
  "kernelspec": {
   "display_name": "Python 3 (ipykernel)",
   "language": "python",
   "name": "python3"
  },
  "language_info": {
   "codemirror_mode": {
    "name": "ipython",
    "version": 3
   },
   "file_extension": ".py",
   "mimetype": "text/x-python",
   "name": "python",
   "nbconvert_exporter": "python",
   "pygments_lexer": "ipython3",
   "version": "3.8.10"
  }
 },
 "nbformat": 4,
 "nbformat_minor": 5
}
