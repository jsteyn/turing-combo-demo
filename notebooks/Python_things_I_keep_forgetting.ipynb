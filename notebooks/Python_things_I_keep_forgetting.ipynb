{
 "cells": [
  {
   "cell_type": "code",
   "execution_count": 1,
   "id": "e319ebbf",
   "metadata": {},
   "outputs": [
    {
     "name": "stdout",
     "output_type": "stream",
     "text": [
      "{'a': 1, 'b': 2}\n",
      "{1, 2, 3}\n",
      "[1, 2, 1, 3, 4]\n",
      "(1, 2, 3)\n",
      "{}\n",
      "set()\n",
      "[]\n",
      "()\n",
      "(1,)\n",
      "{1}\n",
      "[10, 2, 3, 4]\n"
     ]
    },
    {
     "ename": "TypeError",
     "evalue": "tuple expected at most 1 argument, got 4",
     "output_type": "error",
     "traceback": [
      "\u001b[0;31m---------------------------------------------------------------------------\u001b[0m",
      "\u001b[0;31mTypeError\u001b[0m                                 Traceback (most recent call last)",
      "\u001b[0;32m/tmp/ipykernel_447/1966841103.py\u001b[0m in \u001b[0;36m<module>\u001b[0;34m\u001b[0m\n\u001b[1;32m     25\u001b[0m \u001b[0mprint\u001b[0m\u001b[0;34m(\u001b[0m\u001b[0mx\u001b[0m\u001b[0;34m)\u001b[0m\u001b[0;34m\u001b[0m\u001b[0;34m\u001b[0m\u001b[0m\n\u001b[1;32m     26\u001b[0m \u001b[0;31m# A tuple is immutable\u001b[0m\u001b[0;34m\u001b[0m\u001b[0;34m\u001b[0m\u001b[0;34m\u001b[0m\u001b[0m\n\u001b[0;32m---> 27\u001b[0;31m \u001b[0mx\u001b[0m \u001b[0;34m=\u001b[0m \u001b[0mtuple\u001b[0m\u001b[0;34m(\u001b[0m\u001b[0;36m1\u001b[0m\u001b[0;34m,\u001b[0m\u001b[0;36m2\u001b[0m\u001b[0;34m,\u001b[0m\u001b[0;36m3\u001b[0m\u001b[0;34m,\u001b[0m\u001b[0;36m4\u001b[0m\u001b[0;34m)\u001b[0m\u001b[0;34m\u001b[0m\u001b[0;34m\u001b[0m\u001b[0m\n\u001b[0m\u001b[1;32m     28\u001b[0m \u001b[0mx\u001b[0m\u001b[0;34m[\u001b[0m\u001b[0;36m0\u001b[0m\u001b[0;34m]\u001b[0m \u001b[0;34m=\u001b[0m \u001b[0;36m10\u001b[0m\u001b[0;34m\u001b[0m\u001b[0;34m\u001b[0m\u001b[0m\n",
      "\u001b[0;31mTypeError\u001b[0m: tuple expected at most 1 argument, got 4"
     ]
    }
   ],
   "source": [
    "# A dictionary\n",
    "print({\"a\": 1, \"b\": 2})\n",
    "# A set\n",
    "print({1, 1, 2, 3})\n",
    "# A list\n",
    "print([1,2,1,3,4])\n",
    "# A tuple\n",
    "print((1, 2, 3))\n",
    "# Create an empty dictionary\n",
    "print(dict())\n",
    "# Create an empty set\n",
    "print(set())\n",
    "# Create an empty list\n",
    "print(list())\n",
    "# Create an empty tuple\n",
    "print(tuple())\n",
    "\n",
    "# Create a tuple\n",
    "print((1,))\n",
    "# Create a list\n",
    "print({1})\n",
    "# A list is mutable\n",
    "x = [1,2,3,4]\n",
    "x[0] = 10\n",
    "print(x)\n",
    "# A tuple is immutable\n",
    "x = tuple(1,2,3,4)\n",
    "x[0] = 10"
   ]
  },
  {
   "cell_type": "code",
   "execution_count": null,
   "id": "07866089",
   "metadata": {},
   "outputs": [],
   "source": []
  }
 ],
 "metadata": {
  "kernelspec": {
   "display_name": "Python 3 (ipykernel)",
   "language": "python",
   "name": "python3"
  },
  "language_info": {
   "codemirror_mode": {
    "name": "ipython",
    "version": 3
   },
   "file_extension": ".py",
   "mimetype": "text/x-python",
   "name": "python",
   "nbconvert_exporter": "python",
   "pygments_lexer": "ipython3",
   "version": "3.8.10"
  }
 },
 "nbformat": 4,
 "nbformat_minor": 5
}
