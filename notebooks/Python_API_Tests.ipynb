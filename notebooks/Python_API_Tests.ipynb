{
 "cells": [
  {
   "cell_type": "markdown",
   "id": "142e1b9c",
   "metadata": {},
   "source": [
    "# Tracking"
   ]
  },
  {
   "cell_type": "markdown",
   "id": "57a4cb28",
   "metadata": {},
   "source": [
    "## Create a client"
   ]
  },
  {
   "cell_type": "code",
   "execution_count": 2,
   "id": "27d8fcad",
   "metadata": {},
   "outputs": [],
   "source": [
    "import mlflow\n",
    "from mlflow.tracking import MlflowClient"
   ]
  },
  {
   "cell_type": "code",
   "execution_count": 3,
   "id": "5cfe663f",
   "metadata": {},
   "outputs": [],
   "source": [
    "client = MlflowClient()"
   ]
  },
  {
   "cell_type": "markdown",
   "id": "291eddd6",
   "metadata": {},
   "source": [
    "## Define function to print all registered models"
   ]
  },
  {
   "cell_type": "code",
   "execution_count": 4,
   "id": "6e9cc4c8",
   "metadata": {},
   "outputs": [],
   "source": [
    "list_of_models = client.list_registered_models()"
   ]
  },
  {
   "cell_type": "markdown",
   "id": "ec939492",
   "metadata": {},
   "source": [
    "### get_model_version"
   ]
  },
  {
   "cell_type": "code",
   "execution_count": 5,
   "id": "984d57f4",
   "metadata": {},
   "outputs": [],
   "source": [
    "def print_registered_models_info(r_models):\n",
    "    for rm in r_models:\n",
    "        print(\"--\")\n",
    "        mv = client.get_model_version(rm.name, 1)\n",
    "        print(\"name: {}\".format(mv.name))\n",
    "        print(\"run id: {}\".format(mv.run_id))\n",
    "        print(\"source: {}\".format(mv.source))"
   ]
  },
  {
   "cell_type": "code",
   "execution_count": 6,
   "id": "9169b3e9",
   "metadata": {},
   "outputs": [
    {
     "name": "stdout",
     "output_type": "stream",
     "text": [
      "--\n",
      "name: ElasticnetWineModel\n",
      "run id: a02efd60662a44b29ca485f407e7739e\n",
      "source: /models/mlruns/0/a02efd60662a44b29ca485f407e7739e/artifacts/model\n",
      "--\n",
      "name: demo2_survival5_lgbm\n",
      "run id: 1ccd4da3859245788280c6dc850b5faf\n",
      "source: /models/mlruns/0/1ccd4da3859245788280c6dc850b5faf/artifacts/demo2_survival5_lgbm\n"
     ]
    }
   ],
   "source": [
    "print_registered_models_info(list_of_models)"
   ]
  },
  {
   "cell_type": "markdown",
   "id": "64ceebd7",
   "metadata": {},
   "source": [
    "## Retrieve runs for models\n",
    "### search_model_versions"
   ]
  },
  {
   "cell_type": "code",
   "execution_count": 7,
   "id": "dd4e5fc4",
   "metadata": {},
   "outputs": [
    {
     "name": "stdout",
     "output_type": "stream",
     "text": [
      "--\n",
      "name=ElasticnetWineModel; run_id=a02efd60662a44b29ca485f407e7739e; version=1\n",
      "<ModelVersion: creation_timestamp=1626260292831, current_stage='None', description='', last_updated_timestamp=1626260292831, name='ElasticnetWineModel', run_id='a02efd60662a44b29ca485f407e7739e', run_link='', source='/models/mlruns/0/a02efd60662a44b29ca485f407e7739e/artifacts/model', status='READY', status_message='', tags={}, user_id='', version='1'>\n",
      "name=ElasticnetWineModel; run_id=bf2462293f184f838aba8ec5cb0b6f16; version=2\n",
      "<ModelVersion: creation_timestamp=1626260628374, current_stage='None', description='', last_updated_timestamp=1626260628374, name='ElasticnetWineModel', run_id='bf2462293f184f838aba8ec5cb0b6f16', run_link='', source='/models/mlruns/0/bf2462293f184f838aba8ec5cb0b6f16/artifacts/model', status='READY', status_message='', tags={}, user_id='', version='2'>\n",
      "name=ElasticnetWineModel; run_id=f64e5f1fa02a489dab62e42e0d030273; version=3\n",
      "<ModelVersion: creation_timestamp=1626341644169, current_stage='None', description='', last_updated_timestamp=1626341644169, name='ElasticnetWineModel', run_id='f64e5f1fa02a489dab62e42e0d030273', run_link='', source='/models/mlruns/0/f64e5f1fa02a489dab62e42e0d030273/artifacts/model', status='READY', status_message='', tags={}, user_id='', version='3'>\n",
      "name=ElasticnetWineModel; run_id=0456f2b4de8a4bbfaf9fe56cd066e52d; version=4\n",
      "<ModelVersion: creation_timestamp=1626341836065, current_stage='None', description='', last_updated_timestamp=1626341836065, name='ElasticnetWineModel', run_id='0456f2b4de8a4bbfaf9fe56cd066e52d', run_link='', source='/models/mlruns/0/0456f2b4de8a4bbfaf9fe56cd066e52d/artifacts/model', status='READY', status_message='', tags={}, user_id='', version='4'>\n",
      "--\n",
      "name=demo2_survival5_lgbm; run_id=1ccd4da3859245788280c6dc850b5faf; version=1\n",
      "<ModelVersion: creation_timestamp=1626253035671, current_stage='None', description='Demo model 2', last_updated_timestamp=1626341133300, name='demo2_survival5_lgbm', run_id='1ccd4da3859245788280c6dc850b5faf', run_link='', source='/models/mlruns/0/1ccd4da3859245788280c6dc850b5faf/artifacts/demo2_survival5_lgbm', status='READY', status_message='', tags={}, user_id='', version='1'>\n",
      "name=demo2_survival5_lgbm; run_id=dcb066497ec34279976da1e5b5ee0dd8; version=2\n",
      "<ModelVersion: creation_timestamp=1627999882150, current_stage='None', description='', last_updated_timestamp=1627999882150, name='demo2_survival5_lgbm', run_id='dcb066497ec34279976da1e5b5ee0dd8', run_link='', source='/models/mlruns/0/dcb066497ec34279976da1e5b5ee0dd8/artifacts/demo2_survival5_lgbm', status='READY', status_message='', tags={}, user_id='', version='2'>\n"
     ]
    }
   ],
   "source": [
    "for rm in list_of_models:\n",
    "    print(\"--\")\n",
    "    filter_string = \"name='{}'\".format(rm.name)\n",
    "    results = client.search_model_versions(filter_string)\n",
    "    for res in results:\n",
    "        print(\"name={}; run_id={}; version={}\".format(res.name, res.run_id, res.version))\n",
    "        print(res)\n",
    "\n"
   ]
  },
  {
   "cell_type": "code",
   "execution_count": 90,
   "id": "31bc1676",
   "metadata": {},
   "outputs": [
    {
     "name": "stdout",
     "output_type": "stream",
     "text": [
      "<RunInfo: artifact_uri='None', end_time='', experiment_id='a02efd60662a44b29ca485f407e7739e', lifecycle_stage=[1, 2, 3, 4, 5], run_id='a02efd60662a44b29ca485f407e7739e', run_uuid='a02efd60662a44b29ca485f407e7739e', start_time=1626253035671, status=[1, 2, 3, 4, 5], user_id=''>\n"
     ]
    }
   ],
   "source": [
    "from mlflow.entities import RunInfo\n",
    "from mlflow.entities import RunStatus\n",
    "run_id = 'a02efd60662a44b29ca485f407e7739e'\n",
    "experiment_id = 'a02efd60662a44b29ca485f407e7739e'\n",
    "user_id = ''\n",
    "status = 'READY'\n",
    "start = 1626253035671\n",
    "end = ''\n",
    "status = RunStatus.all_status()\n",
    "lifecycle_stage = 'None'\n",
    "runinfo = RunInfo(run_id,experiment_id, user_id, status,start,end,status,lifecycle_stage)\n",
    "print(runinfo)"
   ]
  },
  {
   "cell_type": "code",
   "execution_count": null,
   "id": "1c72a676",
   "metadata": {},
   "outputs": [],
   "source": []
  }
 ],
 "metadata": {
  "kernelspec": {
   "display_name": "Python 3 (ipykernel)",
   "language": "python",
   "name": "python3"
  },
  "language_info": {
   "codemirror_mode": {
    "name": "ipython",
    "version": 3
   },
   "file_extension": ".py",
   "mimetype": "text/x-python",
   "name": "python",
   "nbconvert_exporter": "python",
   "pygments_lexer": "ipython3",
   "version": "3.8.10"
  }
 },
 "nbformat": 4,
 "nbformat_minor": 5
}
