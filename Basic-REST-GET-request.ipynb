{
 "cells": [
  {
   "cell_type": "code",
   "execution_count": 3,
   "metadata": {},
   "outputs": [
    {
     "name": "stdout",
     "output_type": "stream",
     "text": [
      "Collecting requests\n",
      "  Downloading https://files.pythonhosted.org/packages/92/96/144f70b972a9c0eabbd4391ef93ccd49d0f2747f4f6a2a2738e99e5adc65/requests-2.26.0-py2.py3-none-any.whl (62kB)\n",
      "\u001b[K    100% |################################| 71kB 1.7MB/s ta 0:00:011\n",
      "\u001b[?25hRequirement already satisfied: idna<4,>=2.5; python_version >= \"3\" in /usr/lib/python3/dist-packages (from requests)\n",
      "Collecting charset-normalizer~=2.0.0; python_version >= \"3\" (from requests)\n",
      "  Downloading https://files.pythonhosted.org/packages/de/c8/820b1546c68efcbbe3c1b10dd925fbd84a0dda7438bc18db0ef1fa567733/charset_normalizer-2.0.7-py3-none-any.whl\n",
      "Requirement already satisfied: certifi>=2017.4.17 in /usr/local/lib/python3.6/dist-packages (from requests)\n",
      "Collecting urllib3<1.27,>=1.21.1 (from requests)\n",
      "  Downloading https://files.pythonhosted.org/packages/af/f4/524415c0744552cce7d8bf3669af78e8a069514405ea4fcbd0cc44733744/urllib3-1.26.7-py2.py3-none-any.whl (138kB)\n",
      "\u001b[K    100% |################################| 143kB 3.6MB/s ta 0:00:01\n",
      "\u001b[?25hInstalling collected packages: charset-normalizer, urllib3, requests\n",
      "Successfully installed charset-normalizer-2.0.7 requests-2.26.0 urllib3-1.26.7\n"
     ]
    }
   ],
   "source": [
    "!pip3 install requests"
   ]
  },
  {
   "cell_type": "code",
   "execution_count": 9,
   "metadata": {},
   "outputs": [],
   "source": [
    "import requests"
   ]
  },
  {
   "cell_type": "code",
   "execution_count": 10,
   "metadata": {},
   "outputs": [
    {
     "name": "stdout",
     "output_type": "stream",
     "text": [
      "{\n",
      "  \"experiments\": [\n",
      "    {\n",
      "      \"experiment_id\": \"0\",\n",
      "      \"name\": \"Default\",\n",
      "      \"artifact_location\": \"/models/mlruns/0\",\n",
      "      \"lifecycle_stage\": \"active\"\n",
      "    }\n",
      "  ]\n",
      "}\n"
     ]
    }
   ],
   "source": [
    "url = 'http://floki.local:5000/api/2.0/preview/mlflow/experiments/list'\n",
    "x = requests.get(url)\n",
    "print(x.text)"
   ]
  },
  {
   "cell_type": "code",
   "execution_count": 13,
   "metadata": {},
   "outputs": [
    {
     "name": "stdout",
     "output_type": "stream",
     "text": [
      "{\n",
      "  \"experiment\": {\n",
      "    \"experiment_id\": \"0\",\n",
      "    \"name\": \"Default\",\n",
      "    \"artifact_location\": \"/models/mlruns/0\",\n",
      "    \"lifecycle_stage\": \"active\"\n",
      "  }\n",
      "}\n"
     ]
    }
   ],
   "source": [
    "url='http://floki.local:5000/api/2.0/mlflow/experiments/get?experiment_id=0'\n",
    "x = requests.get(url)\n",
    "print(x.text)"
   ]
  },
  {
   "cell_type": "code",
   "execution_count": 15,
   "metadata": {},
   "outputs": [
    {
     "name": "stdout",
     "output_type": "stream",
     "text": [
      "{\n",
      "  \"experiment\": {\n",
      "    \"experiment_id\": \"0\",\n",
      "    \"name\": \"Spring Chicken\",\n",
      "    \"artifact_location\": \"/models/mlruns/0\",\n",
      "    \"lifecycle_stage\": \"active\"\n",
      "  }\n",
      "}\n"
     ]
    }
   ],
   "source": [
    "url='http://floki.local:5000/api/2.0/mlflow/experiments/get-by-name?experiment_name=Spring Chicken'\n",
    "x = requests.get(url)\n",
    "print(x.text)"
   ]
  }
 ],
 "metadata": {
  "kernelspec": {
   "display_name": "Python 3",
   "language": "python",
   "name": "python3"
  },
  "language_info": {
   "codemirror_mode": {
    "name": "ipython",
    "version": 3
   },
   "file_extension": ".py",
   "mimetype": "text/x-python",
   "name": "python",
   "nbconvert_exporter": "python",
   "pygments_lexer": "ipython3",
   "version": "3.6.9"
  }
 },
 "nbformat": 4,
 "nbformat_minor": 2
}
